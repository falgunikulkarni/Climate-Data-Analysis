{
  "nbformat": 4,
  "nbformat_minor": 0,
  "metadata": {
    "colab": {
      "private_outputs": true,
      "provenance": []
    },
    "kernelspec": {
      "name": "python3",
      "display_name": "Python 3"
    },
    "language_info": {
      "name": "python"
    }
  },
  "cells": [
    {
      "cell_type": "code",
      "execution_count": null,
      "metadata": {
        "id": "D-j1ugu_brEV"
      },
      "outputs": [],
      "source": [
        "import pandas as pd\n",
        "import numpy as np\n",
        "import matplotlib.pyplot as plt\n",
        "import seaborn as sns\n",
        "from datetime import datetime, timedelta\n",
        "from scipy.stats import linregress"
      ]
    },
    {
      "cell_type": "code",
      "source": [
        "data = pd.read_csv('climate data.csv')"
      ],
      "metadata": {
        "id": "OjJ-X9vnwJuh"
      },
      "execution_count": null,
      "outputs": []
    },
    {
      "cell_type": "code",
      "source": [
        "data.head()"
      ],
      "metadata": {
        "id": "CdfkMsvywx93"
      },
      "execution_count": null,
      "outputs": []
    },
    {
      "cell_type": "code",
      "source": [
        "data.columns"
      ],
      "metadata": {
        "id": "PrQqkki1w2Jq"
      },
      "execution_count": null,
      "outputs": []
    },
    {
      "cell_type": "code",
      "source": [
        "data.shape"
      ],
      "metadata": {
        "id": "kaZwonfMw5pT"
      },
      "execution_count": null,
      "outputs": []
    },
    {
      "cell_type": "code",
      "source": [
        "data['DATE'] = pd.to_datetime(data['DATE'])"
      ],
      "metadata": {
        "id": "I9NEFdqKw9OM"
      },
      "execution_count": null,
      "outputs": []
    },
    {
      "cell_type": "code",
      "source": [
        "numeric_columns = data.select_dtypes(include=[np.number]).columns\n",
        "data[numeric_columns] = data[numeric_columns].fillna(data[numeric_columns].mean())"
      ],
      "metadata": {
        "id": "AWmNLJe0xSc3"
      },
      "execution_count": null,
      "outputs": []
    },
    {
      "cell_type": "code",
      "source": [
        "categorical_columns = data.select_dtypes(include=[object]).columns\n",
        "for column in categorical_columns:\n",
        "    data[column] = data[column].fillna(data[column].mode()[0])"
      ],
      "metadata": {
        "id": "YHhlF9kr5Tv5"
      },
      "execution_count": null,
      "outputs": []
    },
    {
      "cell_type": "code",
      "source": [
        "data['Sunrise'] = pd.to_datetime(data['Sunrise'], errors='coerce').fillna(method='ffill')\n",
        "data['Sunset'] = pd.to_datetime(data['Sunset'], errors='coerce').fillna(method='ffill')"
      ],
      "metadata": {
        "id": "mUPqgcXM5YM0"
      },
      "execution_count": null,
      "outputs": []
    },
    {
      "cell_type": "code",
      "source": [
        "data['WindEquipmentChangeDate'] = pd.to_datetime(data['WindEquipmentChangeDate'], errors='coerce').fillna(pd.Timestamp('1900-01-01'))"
      ],
      "metadata": {
        "id": "9gBSxvGm5fa0"
      },
      "execution_count": null,
      "outputs": []
    },
    {
      "cell_type": "code",
      "source": [
        "data['WindEquipmentChangeDate'] = pd.to_datetime(data['WindEquipmentChangeDate'], errors='coerce').fillna(pd.Timestamp('1900-01-01'))"
      ],
      "metadata": {
        "id": "idEPCtNQ5irf"
      },
      "execution_count": null,
      "outputs": []
    },
    {
      "cell_type": "code",
      "source": [
        "# Verify data types\n",
        "data.dtypes"
      ],
      "metadata": {
        "id": "_9-QAUv15mY0"
      },
      "execution_count": null,
      "outputs": []
    },
    {
      "cell_type": "code",
      "source": [
        "# Display the first few rows after preprocessing\n",
        "data.head()"
      ],
      "metadata": {
        "id": "qnCKOA1H5qgn"
      },
      "execution_count": null,
      "outputs": []
    },
    {
      "cell_type": "code",
      "source": [
        "missing_values = data.isnull().sum()\n",
        "print(\"Missing values per column:\\n\", missing_values)"
      ],
      "metadata": {
        "id": "VqpSg6Ba7O4b"
      },
      "execution_count": null,
      "outputs": []
    },
    {
      "cell_type": "code",
      "source": [
        "missing_percentage = (data.isnull().sum() / len(data)) * 100\n",
        "print(\"\\nPercentage of missing values per column:\\n\", missing_percentage)"
      ],
      "metadata": {
        "id": "OROYYNJJ7i1p"
      },
      "execution_count": null,
      "outputs": []
    },
    {
      "cell_type": "code",
      "source": [
        "missing_summary = pd.DataFrame({\n",
        "      'Missing Values': missing_values,\n",
        "          'Percentage (%)': missing_percentage\n",
        "          })\n",
        "\n",
        "print(\"\\nSummary of missing data:\\n\")\n",
        "print(missing_summary)"
      ],
      "metadata": {
        "id": "o2dBI9U27sBr"
      },
      "execution_count": null,
      "outputs": []
    },
    {
      "cell_type": "code",
      "source": [
        "missing_summary.to_csv(\"missing_values_summary.csv\", index=True)"
      ],
      "metadata": {
        "id": "jSFlSMJd8A41"
      },
      "execution_count": null,
      "outputs": []
    },
    {
      "cell_type": "code",
      "source": [
        "duplicate_count = data.duplicated().sum()\n",
        "print(f\"Total duplicate rows: {duplicate_count}\")"
      ],
      "metadata": {
        "id": "ogLlfZdh8Ilm"
      },
      "execution_count": null,
      "outputs": []
    },
    {
      "cell_type": "code",
      "source": [
        "if duplicate_count > 0:\n",
        "      print(\"\\nDuplicate rows:\\n\", data[data.duplicated()])\n"
      ],
      "metadata": {
        "id": "_LTxqFoQ8Ny5"
      },
      "execution_count": null,
      "outputs": []
    },
    {
      "cell_type": "code",
      "source": [
        "plt.figure(figsize=(14, 8))"
      ],
      "metadata": {
        "id": "ie_usmVD5vZl"
      },
      "execution_count": null,
      "outputs": []
    },
    {
      "cell_type": "code",
      "source": [
        "# Daily Average Dry Bulb Temperature over time\n",
        "plt.subplot(3, 1, 1)\n",
        "plt.plot(data['DATE'], data['DailyAverageDryBulbTemperature'], label='Avg Dry Bulb Temp')\n",
        "plt.title('Daily Average Dry Bulb Temperature Over Time')\n",
        "plt.xlabel('Date')\n",
        "plt.ylabel('Temperature (°C)')\n",
        "plt.legend()"
      ],
      "metadata": {
        "id": "kECKw-Ge5znH"
      },
      "execution_count": null,
      "outputs": []
    },
    {
      "cell_type": "code",
      "source": [
        "# Daily Precipitation over time\n",
        "plt.subplot(3, 1, 2)\n",
        "plt.plot(data['DATE'], data['DailyPrecipitation'], label='Daily Precipitation', color='green')\n",
        "plt.title('Daily Precipitation Over Time')\n",
        "plt.xlabel('Date')\n",
        "plt.ylabel('Precipitation (mm)')\n",
        "plt.legend()"
      ],
      "metadata": {
        "id": "eblTLomU53Pq"
      },
      "execution_count": null,
      "outputs": []
    },
    {
      "cell_type": "code",
      "source": [
        "# Daily Average Wind Speed over time\n",
        "plt.subplot(3, 1, 3)\n",
        "plt.plot(data['DATE'], data['DailyAverageWindSpeed'], label='Avg Wind Speed', color='red')\n",
        "plt.title('Daily Average Wind Speed Over Time')\n",
        "plt.xlabel('Date')\n",
        "plt.ylabel('Wind Speed (m/s)')\n",
        "plt.legend()\n",
        "\n",
        "plt.tight_layout()\n",
        "plt.show()"
      ],
      "metadata": {
        "id": "ryUFEOQv56_T"
      },
      "execution_count": null,
      "outputs": []
    },
    {
      "cell_type": "code",
      "source": [
        "# 1. Line Plots for Time Series Data\n",
        "plt.figure(figsize=(14, 8))\n",
        "\n",
        "# Daily Average Dry Bulb Temperature over time\n",
        "plt.subplot(3, 1, 1)\n",
        "plt.plot(data['DATE'], data['DailyAverageDryBulbTemperature'], label='Avg Dry Bulb Temp')\n",
        "plt.title('Daily Average Dry Bulb Temperature Over Time')\n",
        "plt.xlabel('Date')\n",
        "plt.ylabel('Temperature (°C)')\n",
        "plt.legend()\n",
        "\n",
        "# Daily Precipitation over time\n",
        "plt.subplot(3, 1, 2)\n",
        "plt.plot(data['DATE'], data['DailyPrecipitation'], label='Daily Precipitation', color='green')\n",
        "plt.title('Daily Precipitation Over Time')\n",
        "plt.xlabel('Date')\n",
        "plt.ylabel('Precipitation (mm)')\n",
        "plt.legend()\n",
        "\n",
        "# Daily Average Wind Speed over time\n",
        "plt.subplot(3, 1, 3)\n",
        "plt.plot(data['DATE'], data['DailyAverageWindSpeed'], label='Avg Wind Speed', color='red')\n",
        "plt.title('Daily Average Wind Speed Over Time')\n",
        "plt.xlabel('Date')\n",
        "plt.ylabel('Wind Speed (m/s)')\n",
        "plt.legend()\n",
        "\n",
        "plt.tight_layout()\n",
        "plt.show()"
      ],
      "metadata": {
        "id": "ahXkDl5q6D6I"
      },
      "execution_count": null,
      "outputs": []
    },
    {
      "cell_type": "code",
      "source": [
        "# 4. Scatter Plots for Examining Relationships\n",
        "# Example: Daily Average Dry Bulb Temperature vs. Daily Precipitation\n",
        "plt.figure(figsize=(8, 6))\n",
        "plt.scatter(data['DailyAverageDryBulbTemperature'], data['DailyPrecipitation'], alpha=0.5)\n",
        "plt.title('Daily Average Dry Bulb Temperature vs. Daily Precipitation')\n",
        "plt.xlabel('Daily Average Dry Bulb Temperature (°C)')\n",
        "plt.ylabel('Daily Precipitation (mm)')\n",
        "plt.show()\n",
        "\n",
        "# Example: Daily Average Dry Bulb Temperature vs. Daily Average Wind Speed\n",
        "plt.figure(figsize=(8, 6))\n",
        "plt.scatter(data['DailyAverageDryBulbTemperature'], data['DailyAverageWindSpeed'], alpha=0.5, color='red')\n",
        "plt.title('Daily Average Dry Bulb Temperature vs. Daily Average Wind Speed')\n",
        "plt.xlabel('Daily Average Dry Bulb Temperature (°C)')\n",
        "plt.ylabel('Daily Average Wind Speed (m/s)')\n",
        "plt.show()"
      ],
      "metadata": {
        "id": "7pYeYMnX6KgX"
      },
      "execution_count": null,
      "outputs": []
    }
  ]
}